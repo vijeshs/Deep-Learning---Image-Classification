{
 "cells": [
  {
   "cell_type": "code",
   "execution_count": null,
   "metadata": {},
   "outputs": [],
   "source": [
    "import tensorflow as tf\n",
    "import os\n",
    "import glob\n",
    "import numpy as np\n",
    "import pandas as pd\n",
    "from sklearn.model_selection import train_test_split\n",
    "from skimage import transform\n",
    "import matplotlib.pyplot as plt\n",
    "%matplotlib inline\n",
    "import imageio\n",
    "from sklearn.metrics import classification_report,confusion_matrix"
   ]
  },
  {
   "cell_type": "code",
   "execution_count": 1,
   "metadata": {
    "ExecuteTime": {
     "end_time": "2021-04-07T08:45:11.794857Z",
     "start_time": "2021-04-07T08:45:11.576660Z"
    }
   },
   "outputs": [
    {
     "data": {
      "text/plain": [
       "(13779, 13779)"
      ]
     },
     "execution_count": 1,
     "metadata": {},
     "output_type": "execute_result"
    }
   ],
   "source": [
    "base_dir = os.path.join('./cell_images')        \n",
    "infected_dir = os.path.join(base_dir,'Parasitized') \n",
    "healthy_dir = os.path.join(base_dir,'Uninfected')\n",
    "       \n",
    "#infected_dir = os.path.join('Parasitized') \n",
    "#healthy_dir = os.path.join('Uninfected')\n",
    "\n",
    "infected_files = glob.glob(infected_dir+'/*.png') #reading the infected files from the folder\n",
    "healthy_files = glob.glob(healthy_dir+'/*.png')\n",
    "len(infected_files), len(healthy_files)"
   ]
  },
  {
   "cell_type": "code",
   "execution_count": 3,
   "metadata": {
    "ExecuteTime": {
     "end_time": "2021-04-07T08:45:37.067684Z",
     "start_time": "2021-04-07T08:45:36.724811Z"
    }
   },
   "outputs": [
    {
     "data": {
      "text/html": [
       "<div>\n",
       "<style scoped>\n",
       "    .dataframe tbody tr th:only-of-type {\n",
       "        vertical-align: middle;\n",
       "    }\n",
       "\n",
       "    .dataframe tbody tr th {\n",
       "        vertical-align: top;\n",
       "    }\n",
       "\n",
       "    .dataframe thead th {\n",
       "        text-align: right;\n",
       "    }\n",
       "</style>\n",
       "<table border=\"1\" class=\"dataframe\">\n",
       "  <thead>\n",
       "    <tr style=\"text-align: right;\">\n",
       "      <th></th>\n",
       "      <th>filename</th>\n",
       "      <th>label</th>\n",
       "    </tr>\n",
       "  </thead>\n",
       "  <tbody>\n",
       "    <tr>\n",
       "      <th>0</th>\n",
       "      <td>./cell_images\\Parasitized\\C100P61ThinF_IMG_201...</td>\n",
       "      <td>malaria</td>\n",
       "    </tr>\n",
       "    <tr>\n",
       "      <th>1</th>\n",
       "      <td>./cell_images\\Parasitized\\C100P61ThinF_IMG_201...</td>\n",
       "      <td>malaria</td>\n",
       "    </tr>\n",
       "    <tr>\n",
       "      <th>2</th>\n",
       "      <td>./cell_images\\Parasitized\\C100P61ThinF_IMG_201...</td>\n",
       "      <td>malaria</td>\n",
       "    </tr>\n",
       "    <tr>\n",
       "      <th>3</th>\n",
       "      <td>./cell_images\\Parasitized\\C100P61ThinF_IMG_201...</td>\n",
       "      <td>malaria</td>\n",
       "    </tr>\n",
       "    <tr>\n",
       "      <th>4</th>\n",
       "      <td>./cell_images\\Parasitized\\C100P61ThinF_IMG_201...</td>\n",
       "      <td>malaria</td>\n",
       "    </tr>\n",
       "  </tbody>\n",
       "</table>\n",
       "</div>"
      ],
      "text/plain": [
       "                                            filename    label\n",
       "0  ./cell_images\\Parasitized\\C100P61ThinF_IMG_201...  malaria\n",
       "1  ./cell_images\\Parasitized\\C100P61ThinF_IMG_201...  malaria\n",
       "2  ./cell_images\\Parasitized\\C100P61ThinF_IMG_201...  malaria\n",
       "3  ./cell_images\\Parasitized\\C100P61ThinF_IMG_201...  malaria\n",
       "4  ./cell_images\\Parasitized\\C100P61ThinF_IMG_201...  malaria"
      ]
     },
     "execution_count": 3,
     "metadata": {},
     "output_type": "execute_result"
    }
   ],
   "source": [
    "\n",
    "#creating the dataframe out of the files read\n",
    "df = pd.DataFrame({'filename': infected_files + healthy_files,'label': ['malaria'] * len(infected_files) + ['healthy'] * len(healthy_files)}).sample(frac=1).reset_index(drop=True) \n",
    "\n",
    "df.head()"
   ]
  },
  {
   "cell_type": "code",
   "execution_count": 162,
   "metadata": {
    "ExecuteTime": {
     "end_time": "2021-04-07T14:43:40.218202Z",
     "start_time": "2021-04-07T14:43:40.198197Z"
    }
   },
   "outputs": [],
   "source": [
    "\n",
    "X_train, X_test, y_train, y_test = train_test_split(df['filename'].values,df['label'].values, test_size=0.3)\n"
   ]
  },
  {
   "cell_type": "code",
   "execution_count": 163,
   "metadata": {
    "ExecuteTime": {
     "end_time": "2021-04-07T14:43:40.961972Z",
     "start_time": "2021-04-07T14:43:40.945802Z"
    }
   },
   "outputs": [
    {
     "data": {
      "text/plain": [
       "(19290, 8268)"
      ]
     },
     "execution_count": 163,
     "metadata": {},
     "output_type": "execute_result"
    }
   ],
   "source": [
    "len(X_train),len(X_test)"
   ]
  },
  {
   "cell_type": "code",
   "execution_count": 164,
   "metadata": {
    "ExecuteTime": {
     "end_time": "2021-04-07T14:43:45.150430Z",
     "start_time": "2021-04-07T14:43:45.129919Z"
    }
   },
   "outputs": [],
   "source": [
    "\n",
    "#converting the pixels of the image into 125 * 125\n",
    "def pixelconv(X):\n",
    "    s=[]\n",
    "    for image in X:\n",
    "        s.append(transform.resize(imageio.imread(image), (125,125)))\n",
    "    return(np.array(list(s)))"
   ]
  },
  {
   "cell_type": "code",
   "execution_count": 165,
   "metadata": {
    "ExecuteTime": {
     "end_time": "2021-04-07T15:42:47.282252Z",
     "start_time": "2021-04-07T14:43:47.049327Z"
    }
   },
   "outputs": [],
   "source": [
    "x_train=pixelconv(X_train)"
   ]
  },
  {
   "cell_type": "code",
   "execution_count": 166,
   "metadata": {
    "ExecuteTime": {
     "end_time": "2021-04-07T15:42:53.886908Z",
     "start_time": "2021-04-07T15:42:53.832282Z"
    }
   },
   "outputs": [],
   "source": [
    "pic=x_train[0]"
   ]
  },
  {
   "cell_type": "code",
   "execution_count": 167,
   "metadata": {
    "ExecuteTime": {
     "end_time": "2021-04-07T15:42:54.985574Z",
     "start_time": "2021-04-07T15:42:54.691648Z"
    }
   },
   "outputs": [
    {
     "name": "stdout",
     "output_type": "stream",
     "text": [
      "Type of the image :  <class 'numpy.ndarray'>\n",
      "Shape of the image : (125, 125, 3)\n",
      "Image Hight 125\n",
      "Image Width 125\n",
      "Dimension of Image 3\n"
     ]
    }
   ],
   "source": [
    "print('Type of the image : ' , type(pic)) \n",
    "print('Shape of the image : {}'.format(pic.shape)) \n",
    "print('Image Hight {}'.format(pic.shape[0])) \n",
    "print('Image Width {}'.format(pic.shape[1])) \n",
    "print('Dimension of Image {}'.format(pic.ndim))"
   ]
  },
  {
   "cell_type": "code",
   "execution_count": null,
   "metadata": {
    "ExecuteTime": {
     "end_time": "2021-04-07T10:34:37.638612Z",
     "start_time": "2021-04-07T10:34:37.626097Z"
    }
   },
   "outputs": [],
   "source": []
  },
  {
   "cell_type": "code",
   "execution_count": 195,
   "metadata": {
    "ExecuteTime": {
     "end_time": "2021-04-08T05:51:37.857459Z",
     "start_time": "2021-04-08T05:51:36.764938Z"
    }
   },
   "outputs": [
    {
     "data": {
      "image/png": "[encoded data removed]",
      "text/plain": [
       "<Figure size 576x576 with 10 Axes>"
      ]
     },
     "metadata": {},
     "output_type": "display_data"
    }
   ],
   "source": [
    "# visualizing few images \n",
    "plt.figure(1 , figsize = (8 , 8))\n",
    "n = 0 \n",
    "for i in range(10):\n",
    "    n += 1 \n",
    "    plt.subplot(2 , 5 ,n )\n",
    "    plt.subplots_adjust(hspace = 0.0005 , wspace = 0.05)\n",
    "    plt.imshow(x_train[i])\n",
    "    plt.title('{}'.format(y_train[i]))\n",
    "    plt.xticks([]) , plt.yticks([])"
   ]
  },
  {
   "cell_type": "code",
   "execution_count": 180,
   "metadata": {
    "ExecuteTime": {
     "end_time": "2021-04-07T16:09:29.095180Z",
     "start_time": "2021-04-07T16:09:29.035348Z"
    }
   },
   "outputs": [
    {
     "name": "stdout",
     "output_type": "stream",
     "text": [
      "['healthy' 'malaria' 'malaria' 'malaria' 'malaria' 'malaria'] [0 1 1 1 1 1]\n"
     ]
    }
   ],
   "source": [
    "\n",
    "from sklearn.preprocessing import LabelEncoder\n",
    "\n",
    "le = LabelEncoder()\n",
    "le.fit(y_train)\n",
    "Y_train = le.transform(y_train)\n",
    "\n",
    "\n",
    "print(y_train[:6], Y_train[:6])\n"
   ]
  },
  {
   "cell_type": "code",
   "execution_count": 182,
   "metadata": {
    "ExecuteTime": {
     "end_time": "2021-04-07T16:14:54.652065Z",
     "start_time": "2021-04-07T16:14:43.049400Z"
    }
   },
   "outputs": [
    {
     "name": "stdout",
     "output_type": "stream",
     "text": [
      "Model: \"model_1\"\n",
      "_________________________________________________________________\n",
      "Layer (type)                 Output Shape              Param #   \n",
      "=================================================================\n",
      "input_2 (InputLayer)         [(None, 125, 125, 3)]     0         \n",
      "_________________________________________________________________\n",
      "conv2d_3 (Conv2D)            (None, 125, 125, 32)      896       \n",
      "_________________________________________________________________\n",
      "max_pooling2d_3 (MaxPooling2 (None, 62, 62, 32)        0         \n",
      "_________________________________________________________________\n",
      "conv2d_4 (Conv2D)            (None, 62, 62, 64)        18496     \n",
      "_________________________________________________________________\n",
      "max_pooling2d_4 (MaxPooling2 (None, 31, 31, 64)        0         \n",
      "_________________________________________________________________\n",
      "conv2d_5 (Conv2D)            (None, 31, 31, 128)       73856     \n",
      "_________________________________________________________________\n",
      "max_pooling2d_5 (MaxPooling2 (None, 15, 15, 128)       0         \n",
      "_________________________________________________________________\n",
      "flatten_1 (Flatten)          (None, 28800)             0         \n",
      "_________________________________________________________________\n",
      "dense_3 (Dense)              (None, 512)               14746112  \n",
      "_________________________________________________________________\n",
      "dropout_2 (Dropout)          (None, 512)               0         \n",
      "_________________________________________________________________\n",
      "dense_4 (Dense)              (None, 512)               262656    \n",
      "_________________________________________________________________\n",
      "dropout_3 (Dropout)          (None, 512)               0         \n",
      "_________________________________________________________________\n",
      "dense_5 (Dense)              (None, 1)                 513       \n",
      "=================================================================\n",
      "Total params: 15,102,529\n",
      "Trainable params: 15,102,529\n",
      "Non-trainable params: 0\n",
      "_________________________________________________________________\n"
     ]
    }
   ],
   "source": [
    "BATCH_SIZE = 64\n",
    "NUM_CLASSES = 2\n",
    "EPOCHS = 25\n",
    "INPUT_SHAPE = (125, 125, 3)\n",
    "\n",
    "\n",
    "\n",
    "#input layer\n",
    "inp = tf.keras.layers.Input(shape=INPUT_SHAPE) \n",
    "#convolution layer\n",
    "conv1 = tf.keras.layers.Conv2D(32, kernel_size=(3, 3),activation='relu', padding='same')(inp)\n",
    "#max pooling\n",
    "pool1 = tf.keras.layers.MaxPooling2D(pool_size=(2, 2))(conv1)\n",
    "conv2 = tf.keras.layers.Conv2D(64, kernel_size=(3, 3), activation='relu', padding='same')(pool1)\n",
    "pool2 = tf.keras.layers.MaxPooling2D(pool_size=(2, 2))(conv2)\n",
    "conv3 = tf.keras.layers.Conv2D(128, kernel_size=(3, 3),activation='relu', padding='same')(pool2)\n",
    "pool3 = tf.keras.layers.MaxPooling2D(pool_size=(2, 2))(conv3)\n",
    "#flatten layer\n",
    "flat = tf.keras.layers.Flatten()(pool3)\n",
    "#hidden layer\n",
    "hidden1 = tf.keras.layers.Dense(512, activation='relu')(flat)\n",
    "drop1 = tf.keras.layers.Dropout(rate=0.3)(hidden1)\n",
    "hidden2 = tf.keras.layers.Dense(512, activation='relu')(drop1)\n",
    "drop2 = tf.keras.layers.Dropout(rate=0.3)(hidden2)\n",
    "\n",
    "out = tf.keras.layers.Dense(1, activation='sigmoid')(drop2)\n",
    "\n",
    "model = tf.keras.Model(inputs=inp, outputs=out)\n",
    "model.compile(optimizer='adam',loss='binary_crossentropy',metrics=['accuracy'])\n",
    "model.summary()\n"
   ]
  },
  {
   "cell_type": "code",
   "execution_count": 183,
   "metadata": {
    "ExecuteTime": {
     "end_time": "2021-04-07T23:26:58.928768Z",
     "start_time": "2021-04-07T16:14:55.522450Z"
    }
   },
   "outputs": [
    {
     "name": "stdout",
     "output_type": "stream",
     "text": [
      "Train on 19290 samples\n",
      "Epoch 1/25\n",
      "19290/19290 [==============================] - 936s 49ms/sample - loss: 0.3499 - accuracy: 0.8422\n",
      "Epoch 2/25\n",
      "19290/19290 [==============================] - 1001s 52ms/sample - loss: 0.1548 - accuracy: 0.9512\n",
      "Epoch 3/25\n",
      "19290/19290 [==============================] - 1544s 80ms/sample - loss: 0.1298 - accuracy: 0.9590\n",
      "Epoch 4/25\n",
      "19290/19290 [==============================] - 1189s 62ms/sample - loss: 0.1155 - accuracy: 0.9614\n",
      "Epoch 5/25\n",
      "19290/19290 [==============================] - 1251s 65ms/sample - loss: 0.0967 - accuracy: 0.9671\n",
      "Epoch 6/25\n",
      "19290/19290 [==============================] - 962s 50ms/sample - loss: 0.0850 - accuracy: 0.9718\n",
      "Epoch 7/25\n",
      "19290/19290 [==============================] - 1026s 53ms/sample - loss: 0.0652 - accuracy: 0.9766\n",
      "Epoch 8/25\n",
      "19290/19290 [==============================] - 1043s 54ms/sample - loss: 0.0475 - accuracy: 0.9847\n",
      "Epoch 9/25\n",
      "19290/19290 [==============================] - 1375s 71ms/sample - loss: 0.0333 - accuracy: 0.9880\n",
      "Epoch 10/25\n",
      "19290/19290 [==============================] - 1023s 53ms/sample - loss: 0.0268 - accuracy: 0.9905\n",
      "Epoch 11/25\n",
      "19290/19290 [==============================] - 972s 50ms/sample - loss: 0.0228 - accuracy: 0.9929\n",
      "Epoch 12/25\n",
      "19290/19290 [==============================] - 893s 46ms/sample - loss: 0.0137 - accuracy: 0.9950\n",
      "Epoch 13/25\n",
      "19290/19290 [==============================] - 893s 46ms/sample - loss: 0.0158 - accuracy: 0.9951\n",
      "Epoch 14/25\n",
      "19290/19290 [==============================] - 905s 47ms/sample - loss: 0.0154 - accuracy: 0.9952\n",
      "Epoch 15/25\n",
      "19290/19290 [==============================] - 1002s 52ms/sample - loss: 0.0137 - accuracy: 0.9954\n",
      "Epoch 16/25\n",
      "19290/19290 [==============================] - 952s 49ms/sample - loss: 0.0093 - accuracy: 0.9965\n",
      "Epoch 17/25\n",
      "19290/19290 [==============================] - 986s 51ms/sample - loss: 0.0113 - accuracy: 0.9967\n",
      "Epoch 18/25\n",
      "19290/19290 [==============================] - 1176s 61ms/sample - loss: 0.0124 - accuracy: 0.9961\n",
      "Epoch 19/25\n",
      "19290/19290 [==============================] - 948s 49ms/sample - loss: 0.0071 - accuracy: 0.9984\n",
      "Epoch 20/25\n",
      "19290/19290 [==============================] - 921s 48ms/sample - loss: 0.0159 - accuracy: 0.9959\n",
      "Epoch 21/25\n",
      "19290/19290 [==============================] - 1059s 55ms/sample - loss: 0.0036 - accuracy: 0.9990\n",
      "Epoch 22/25\n",
      "19290/19290 [==============================] - 1024s 53ms/sample - loss: 0.0110 - accuracy: 0.9968\n",
      "Epoch 23/25\n",
      "19290/19290 [==============================] - 932s 48ms/sample - loss: 0.0037 - accuracy: 0.9991\n",
      "Epoch 24/25\n",
      "19290/19290 [==============================] - 946s 49ms/sample - loss: 0.0040 - accuracy: 0.9991\n",
      "Epoch 25/25\n",
      "19290/19290 [==============================] - 923s 48ms/sample - loss: 0.0092 - accuracy: 0.9975\n"
     ]
    }
   ],
   "source": [
    "Cnn = model.fit(x=x_train, y=Y_train,batch_size=BATCH_SIZE,epochs=EPOCHS,verbose=1)"
   ]
  },
  {
   "cell_type": "code",
   "execution_count": 184,
   "metadata": {
    "ExecuteTime": {
     "end_time": "2021-04-07T23:52:11.632815Z",
     "start_time": "2021-04-07T23:27:44.668329Z"
    }
   },
   "outputs": [],
   "source": [
    "x_test=pixelconv(X_test) #resizing the test data"
   ]
  },
  {
   "cell_type": "code",
   "execution_count": 196,
   "metadata": {
    "ExecuteTime": {
     "end_time": "2021-04-08T05:59:48.803204Z",
     "start_time": "2021-04-08T05:55:36.710081Z"
    }
   },
   "outputs": [],
   "source": [
    "predicted=model.predict(x_test, batch_size=512) "
   ]
  },
  {
   "cell_type": "code",
   "execution_count": 197,
   "metadata": {
    "ExecuteTime": {
     "end_time": "2021-04-08T06:00:07.753919Z",
     "start_time": "2021-04-08T06:00:04.893230Z"
    }
   },
   "outputs": [],
   "source": [
    "pred_labels = le.inverse_transform([1 if pred > 0.5 else 0 for pred in predicted.ravel()])"
   ]
  },
  {
   "cell_type": "code",
   "execution_count": 198,
   "metadata": {
    "ExecuteTime": {
     "end_time": "2021-04-08T06:00:08.769282Z",
     "start_time": "2021-04-08T06:00:08.741492Z"
    }
   },
   "outputs": [],
   "source": [
    "#pred_labels"
   ]
  },
  {
   "cell_type": "code",
   "execution_count": 199,
   "metadata": {
    "ExecuteTime": {
     "end_time": "2021-04-08T06:00:11.300731Z",
     "start_time": "2021-04-08T06:00:09.851514Z"
    }
   },
   "outputs": [
    {
     "name": "stdout",
     "output_type": "stream",
     "text": [
      "              precision    recall  f1-score   support\n",
      "\n",
      "     healthy       0.94      0.97      0.96      4122\n",
      "     malaria       0.97      0.94      0.95      4146\n",
      "\n",
      "    accuracy                           0.96      8268\n",
      "   macro avg       0.96      0.96      0.96      8268\n",
      "weighted avg       0.96      0.96      0.96      8268\n",
      "\n"
     ]
    }
   ],
   "source": [
    "classification_report(y_test, pred_labels) #classification report"
   ]
  },
  {
   "cell_type": "code",
   "execution_count": null,
   "metadata": {},
   "outputs": [],
   "source": [
    "confusion_matrix(y_test, pred_labels) #confusion matrix"
   ]
  }
 ],
 "metadata": {
  "kernelspec": {
   "display_name": "Python 3",
   "language": "python",
   "name": "python3"
  },
  "language_info": {
   "codemirror_mode": {
    "name": "ipython",
    "version": 3
   },
   "file_extension": ".py",
   "mimetype": "text/x-python",
   "name": "python",
   "nbconvert_exporter": "python",
   "pygments_lexer": "ipython3",
   "version": "3.7.5"
  },
  "varInspector": {
   "cols": {
    "lenName": 16,
    "lenType": 16,
    "lenVar": 40
   },
   "kernels_config": {
    "python": {
     "delete_cmd_postfix": "",
     "delete_cmd_prefix": "del ",
     "library": "var_list.py",
     "varRefreshCmd": "print(var_dic_list())"
    },
    "r": {
     "delete_cmd_postfix": ") ",
     "delete_cmd_prefix": "rm(",
     "library": "var_list.r",
     "varRefreshCmd": "cat(var_dic_list()) "
    }
   },
   "types_to_exclude": [
    "module",
    "function",
    "builtin_function_or_method",
    "instance",
    "_Feature"
   ],
   "window_display": false
  }
 },
 "nbformat": 4,
 "nbformat_minor": 2
}
